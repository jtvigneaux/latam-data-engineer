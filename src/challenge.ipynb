{
 "cells": [
  {
   "cell_type": "markdown",
   "metadata": {},
   "source": [
    "En este archivo puedes escribir lo que estimes conveniente. Te recomendamos detallar tu solución y todas las suposiciones que estás considerando. Aquí puedes ejecutar las funciones que definiste en los otros archivos de la carpeta src, medir el tiempo, memoria, etc."
   ]
  },
  {
   "cell_type": "code",
   "execution_count": 1,
   "metadata": {},
   "outputs": [],
   "source": [
    "file_path = \"farmers-protest-tweets-2021-2-4.json\""
   ]
  },
  {
   "cell_type": "markdown",
   "metadata": {},
   "source": [
    "Para todas las respustas se va a considerar que m es el número de tweets."
   ]
  },
  {
   "cell_type": "markdown",
   "metadata": {},
   "source": [
    "### Question 1\n",
    "\n",
    "Como se menciona anteriormente, $m$ representa el número de tweets y, en este caso, $n$ es la cantidad de fechas únicas."
   ]
  },
  {
   "cell_type": "markdown",
   "metadata": {},
   "source": [
    "#### Time\n",
    "\n",
    "- La manera de enfrentar el problema para hacerlo eficiente en tiempo fue primero crear un diccionario con las fechas y un contador de cuantas veces aparecen en el listado. Esto tiene una complejidad de $O(m)$. En esta parte también se guarda en diccionarios el registro del usuario más activo por fecha.\n",
    "- Luego se revisa para cada fecha, si el está =entre las más populares o no. Para esto se utilizó la libreria heapq con la que se creó un `min-heap` ya que estos tienen complejidad de $log(x)$ (donde x es el tamaño del heap, 10 en este caso) para insertar y reemplazar y $O(1)$ para obtener el dato menor. \n",
    "- La segunda parte de la solución tiene una complejidad de tiempo de $O(nlog(10))$.\n",
    "- En total, la solución tiene una complejidad de $O(m + nlog10)$ \n",
    "- Otra opción que se consideró para la solución fue juntar ambos loops, lo que resultaría en una complejidad de $O(mlog10)$, pero como $m >> n$, esto tomaría mucho más tiempo."
   ]
  },
  {
   "cell_type": "code",
   "execution_count": 2,
   "metadata": {},
   "outputs": [
    {
     "data": {
      "text/plain": [
       "[(datetime.date(2021, 2, 12), 'RanbirS00614606'),\n",
       " (datetime.date(2021, 2, 13), 'MaanDee08215437'),\n",
       " (datetime.date(2021, 2, 17), 'RaaJVinderkaur'),\n",
       " (datetime.date(2021, 2, 16), 'jot__b'),\n",
       " (datetime.date(2021, 2, 14), 'rebelpacifist'),\n",
       " (datetime.date(2021, 2, 18), 'neetuanjle_nitu'),\n",
       " (datetime.date(2021, 2, 15), 'jot__b'),\n",
       " (datetime.date(2021, 2, 20), 'MangalJ23056160'),\n",
       " (datetime.date(2021, 2, 23), 'Surrypuria'),\n",
       " (datetime.date(2021, 2, 19), 'Preetm91')]"
      ]
     },
     "execution_count": 2,
     "metadata": {},
     "output_type": "execute_result"
    }
   ],
   "source": [
    "from q1_time import q1_time\n",
    "\n",
    "q1_time(file_path)"
   ]
  }
 ],
 "metadata": {
  "kernelspec": {
   "display_name": "base",
   "language": "python",
   "name": "python3"
  },
  "language_info": {
   "codemirror_mode": {
    "name": "ipython",
    "version": 3
   },
   "file_extension": ".py",
   "mimetype": "text/x-python",
   "name": "python",
   "nbconvert_exporter": "python",
   "pygments_lexer": "ipython3",
   "version": "3.11.5"
  },
  "orig_nbformat": 4
 },
 "nbformat": 4,
 "nbformat_minor": 2
}
